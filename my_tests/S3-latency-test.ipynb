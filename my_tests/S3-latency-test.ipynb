{
 "cells": [
  {
   "cell_type": "code",
   "execution_count": 1,
   "metadata": {
    "collapsed": true
   },
   "outputs": [],
   "source": [
    "import pywren\n",
    "import pickle \n",
    "import time\n",
    "import boto3\n",
    "import numpy as np\n",
    "\n",
    "def latency(n):\n",
    "    s3_client = boto3.client('s3')\n",
    "    bucket_name = 'test-yawen'\n",
    "    \n",
    "    random_num = np.random.rand(1, n) #generate n floats (each becomes 20B after serializing)\n",
    "    rand_serial = pickle.dumps(random_num)\n",
    "    t0 = time.time()\n",
    "    for i in range(100):\n",
    "        s3_client.put_object(\n",
    "            Bucket = bucket_name,\n",
    "            Body = rand_serial,\n",
    "            Key = 'tmp'+str(n)+'/'+str(i)\n",
    "        )   \n",
    "    t1 = time.time()\n",
    "    for i in range(100):\n",
    "        s3_client.get_object(Bucket=bucket_name, Key='tmp'+str(n)+'/'+str(i))['Body'].read()\n",
    "    t2 = time.time()\n",
    "    return (n, (t1-t0)*10, (t2-t1)*10) # time in ms "
   ]
  },
  {
   "cell_type": "code",
   "execution_count": 10,
   "metadata": {
    "collapsed": true,
    "run_control": {
     "frozen": false,
     "read_only": false
    }
   },
   "outputs": [],
   "source": [
    "wrenexec = pywren.default_executor()"
   ]
  },
  {
   "cell_type": "code",
   "execution_count": 11,
   "metadata": {},
   "outputs": [
    {
     "data": {
      "text/plain": [
       "(1, 20.595228672027588, 13.582830429077148)"
      ]
     },
     "execution_count": 11,
     "metadata": {},
     "output_type": "execute_result"
    }
   ],
   "source": [
    "future = wrenexec.call_async(latency, 1)\n",
    "future.result()"
   ]
  },
  {
   "cell_type": "code",
   "execution_count": 12,
   "metadata": {},
   "outputs": [
    {
     "data": {
      "text/plain": [
       "(10, 28.280160427093506, 10.745761394500732)"
      ]
     },
     "execution_count": 12,
     "metadata": {},
     "output_type": "execute_result"
    }
   ],
   "source": [
    "future = wrenexec.call_async(latency, 10)\n",
    "future.result()"
   ]
  },
  {
   "cell_type": "code",
   "execution_count": 13,
   "metadata": {},
   "outputs": [
    {
     "data": {
      "text/plain": [
       "(100, 22.29712963104248, 11.682398319244385)"
      ]
     },
     "execution_count": 13,
     "metadata": {},
     "output_type": "execute_result"
    }
   ],
   "source": [
    "future = wrenexec.call_async(latency, 100)\n",
    "future.result()"
   ]
  },
  {
   "cell_type": "code",
   "execution_count": null,
   "metadata": {
    "collapsed": true
   },
   "outputs": [],
   "source": []
  }
 ],
 "metadata": {
  "anaconda-cloud": {},
  "kernelspec": {
   "display_name": "Python 2",
   "language": "python",
   "name": "python2"
  },
  "language_info": {
   "codemirror_mode": {
    "name": "ipython",
    "version": 2
   },
   "file_extension": ".py",
   "mimetype": "text/x-python",
   "name": "python",
   "nbconvert_exporter": "python",
   "pygments_lexer": "ipython2",
   "version": "2.7.14"
  },
  "toc": {
   "nav_menu": {
    "height": "12px",
    "width": "252px"
   },
   "navigate_menu": true,
   "number_sections": true,
   "sideBar": true,
   "threshold": 4,
   "toc_cell": false,
   "toc_section_display": "block",
   "toc_window_display": false
  }
 },
 "nbformat": 4,
 "nbformat_minor": 2
}
