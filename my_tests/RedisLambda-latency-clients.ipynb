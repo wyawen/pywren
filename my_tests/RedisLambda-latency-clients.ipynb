{
 "cells": [
  {
   "cell_type": "code",
   "execution_count": 14,
   "metadata": {},
   "outputs": [],
   "source": [
    "import pywren\n",
    "import pickle \n",
    "import time\n",
    "import numpy as np\n",
    "\n",
    "def latency(data):\n",
    "    from redis import Redis\n",
    "    n = data[0]\n",
    "    id = data[1]\n",
    "    \n",
    "    gateway_ip = '54.212.247.168'\n",
    "    gateway_port = '8888'\n",
    "    bind_port = '4000'+str(id)\n",
    "    redis = Redis(gateway_ip, int(gateway_port), bind_port=int(bind_port))\n",
    "    \n",
    "    random_num = np.random.rand(1, n) #generate n floats (each becomes 20B after serializing)\n",
    "    rand_serial = pickle.dumps(random_num)\n",
    "    t0 = time.time()\n",
    "    for i in range(100):\n",
    "        redis.set(i, rand_serial)\n",
    "    t1 = time.time()\n",
    "    for i in range(100):\n",
    "        redis.get(i)\n",
    "    t2 = time.time()\n",
    "    return (n, (t1-t0)*10, (t2-t1)*10) # time in ms "
   ]
  },
  {
   "cell_type": "code",
   "execution_count": 33,
   "metadata": {},
   "outputs": [],
   "source": [
    "def latency_no_gateway(data):\n",
    "    from redis import Redis\n",
    "    n = data[0]\n",
    "    id = data[1]\n",
    "    \n",
    "    gateway_ip = '54.212.247.168'\n",
    "    gateway_port = '8888'\n",
    "    n_digits = id/10+1\n",
    "    if n_digits == 1:\n",
    "        bind_port = '4000'+str(id)\n",
    "    elif n_digits == 2:\n",
    "        bind_port = '400'+str(id)\n",
    "    elif n_digits == 3:\n",
    "        bin_port = '40'+str(id)\n",
    "    redis = Redis(gateway_ip, int(gateway_port), bind_port=int(bind_port))\n",
    "    t3 = time.time()\n",
    "    redis.set('k', 'v') # excluding the gateway roundtrip time \n",
    "    t4 = time.time()\n",
    "    \n",
    "    random_num = np.random.rand(1, n) #generate n floats (each becomes 20B after serializing)\n",
    "    rand_serial = pickle.dumps(random_num)\n",
    "    t0 = time.time()\n",
    "    for i in range(100):\n",
    "        redis.set(i, rand_serial)\n",
    "    t1 = time.time()\n",
    "    for i in range(100):\n",
    "        redis.get(i)\n",
    "    t2 = time.time()\n",
    "    return (n, (t1-t0)*10, (t2-t1)*10, (t4-t3)*1000) # time in ms "
   ]
  },
  {
   "cell_type": "code",
   "execution_count": 16,
   "metadata": {
    "run_control": {
     "frozen": false,
     "read_only": false
    }
   },
   "outputs": [],
   "source": [
    "wrenexec = pywren.default_executor()"
   ]
  },
  {
   "cell_type": "code",
   "execution_count": 24,
   "metadata": {},
   "outputs": [
    {
     "name": "stdout",
     "output_type": "stream",
     "text": [
      "7.4863011837 sec\n",
      "[2.205958366394043, 2.2042608261108398, 1006.5159797668457]\n",
      "[2.205958366394043, 2.20426082611084, 1006.5159797668457]\n"
     ]
    }
   ],
   "source": [
    "args_list = []\n",
    "for i in range(1):\n",
    "    args_list.append([1, i])\n",
    "\n",
    "time0 = time.time()\n",
    "futures = wrenexec.map(latency_no_gateway, args_list)\n",
    "results = pywren.get_all_results(futures)\n",
    "time1 = time.time()\n",
    "t_total = time1-time0\n",
    "print str(t_total) + \" sec\"\n",
    "\n",
    "result = [0, 0, 0]\n",
    "result_full = [[], [], []]\n",
    "for res in results:\n",
    "    result[0] += res[1]\n",
    "    result_full[0].append(res[1])\n",
    "    result[1] += res[2]\n",
    "    result_full[1].append(res[2])\n",
    "    result[2] += res[3]\n",
    "    result_full[2].append(res[3])\n",
    "result[0] /= len(futures)\n",
    "result[1] /= len(futures)\n",
    "result[2] /= len(futures)\n",
    "result_write = np.array(result_full[0])\n",
    "result_read = np.array(result_full[1])\n",
    "result_gateway = np.array(result_full[2])\n",
    "print [np.percentile(result_write, 100), np.percentile(result_read, 100), np.percentile(result_gateway, 100)]\n",
    "print result #avg write time, avg read time"
   ]
  },
  {
   "cell_type": "code",
   "execution_count": 29,
   "metadata": {},
   "outputs": [
    {
     "name": "stdout",
     "output_type": "stream",
     "text": [
      "10 lambdas\n",
      "14.7844059467 sec\n",
      "[32.402219772338867, 29.993259906768799, 1193.659782409668]\n",
      "[28.87881326675415, 27.22055411338806, 889.5804643630981]\n"
     ]
    }
   ],
   "source": [
    "args_list = []\n",
    "n_lambda = 10\n",
    "print str(n_lambda) + \" lambdas\" \n",
    "for i in range(n_lambda):\n",
    "    args_list.append([1, i])\n",
    "\n",
    "time0 = time.time()\n",
    "futures = wrenexec.map(latency_no_gateway, args_list)\n",
    "results = pywren.get_all_results(futures)\n",
    "time1 = time.time()\n",
    "t_total = time1-time0\n",
    "print str(t_total) + \" sec\"\n",
    "\n",
    "result = [0, 0, 0]\n",
    "result_full = [[], [], []]\n",
    "for res in results:\n",
    "    result[0] += res[1]\n",
    "    result_full[0].append(res[1])\n",
    "    result[1] += res[2]\n",
    "    result_full[1].append(res[2])\n",
    "    result[2] += res[3]\n",
    "    result_full[2].append(res[3])\n",
    "result[0] /= len(futures)\n",
    "result[1] /= len(futures)\n",
    "result[2] /= len(futures)\n",
    "result_write = np.array(result_full[0])\n",
    "result_read = np.array(result_full[1])\n",
    "result_gateway = np.array(result_full[2])\n",
    "print [np.percentile(result_write, 100), np.percentile(result_read, 100), np.percentile(result_gateway, 100)]\n",
    "print result #avg write time, avg read time"
   ]
  },
  {
   "cell_type": "code",
   "execution_count": 34,
   "metadata": {
    "scrolled": true
   },
   "outputs": [
    {
     "name": "stdout",
     "output_type": "stream",
     "text": [
      "100 lambdas\n",
      "test\n"
     ]
    },
    {
     "ename": "UnboundLocalError",
     "evalue": "local variable 'bind_port' referenced before assignment",
     "output_type": "error",
     "traceback": [
      "\u001b[0;31m---------------------------------------------------------------------------\u001b[0m",
      "\u001b[0;31mUnboundLocalError\u001b[0m                         Traceback (most recent call last)",
      "\u001b[0;32m<ipython-input-34-21034da1a483>\u001b[0m in \u001b[0;36m<module>\u001b[0;34m()\u001b[0m\n\u001b[1;32m      8\u001b[0m \u001b[0mtime0\u001b[0m \u001b[0;34m=\u001b[0m \u001b[0mtime\u001b[0m\u001b[0;34m.\u001b[0m\u001b[0mtime\u001b[0m\u001b[0;34m(\u001b[0m\u001b[0;34m)\u001b[0m\u001b[0;34m\u001b[0m\u001b[0m\n\u001b[1;32m      9\u001b[0m \u001b[0mfutures\u001b[0m \u001b[0;34m=\u001b[0m \u001b[0mwrenexec\u001b[0m\u001b[0;34m.\u001b[0m\u001b[0mmap\u001b[0m\u001b[0;34m(\u001b[0m\u001b[0mlatency_no_gateway\u001b[0m\u001b[0;34m,\u001b[0m \u001b[0margs_list\u001b[0m\u001b[0;34m)\u001b[0m\u001b[0;34m\u001b[0m\u001b[0m\n\u001b[0;32m---> 10\u001b[0;31m \u001b[0mresults\u001b[0m \u001b[0;34m=\u001b[0m \u001b[0mpywren\u001b[0m\u001b[0;34m.\u001b[0m\u001b[0mget_all_results\u001b[0m\u001b[0;34m(\u001b[0m\u001b[0mfutures\u001b[0m\u001b[0;34m)\u001b[0m\u001b[0;34m\u001b[0m\u001b[0m\n\u001b[0m\u001b[1;32m     11\u001b[0m \u001b[0mtime1\u001b[0m \u001b[0;34m=\u001b[0m \u001b[0mtime\u001b[0m\u001b[0;34m.\u001b[0m\u001b[0mtime\u001b[0m\u001b[0;34m(\u001b[0m\u001b[0;34m)\u001b[0m\u001b[0;34m\u001b[0m\u001b[0m\n\u001b[1;32m     12\u001b[0m \u001b[0mt_total\u001b[0m \u001b[0;34m=\u001b[0m \u001b[0mtime1\u001b[0m\u001b[0;34m-\u001b[0m\u001b[0mtime0\u001b[0m\u001b[0;34m\u001b[0m\u001b[0m\n",
      "\u001b[0;32m/home/yawen/pywren/pywren/wren.pyc\u001b[0m in \u001b[0;36mget_all_results\u001b[0;34m(fs)\u001b[0m\n\u001b[1;32m     86\u001b[0m     \"\"\"\n\u001b[1;32m     87\u001b[0m     \u001b[0mwait\u001b[0m\u001b[0;34m(\u001b[0m\u001b[0mfs\u001b[0m\u001b[0;34m,\u001b[0m \u001b[0mreturn_when\u001b[0m\u001b[0;34m=\u001b[0m\u001b[0mALL_COMPLETED\u001b[0m\u001b[0;34m)\u001b[0m\u001b[0;34m\u001b[0m\u001b[0m\n\u001b[0;32m---> 88\u001b[0;31m     \u001b[0;32mreturn\u001b[0m \u001b[0;34m[\u001b[0m\u001b[0mf\u001b[0m\u001b[0;34m.\u001b[0m\u001b[0mresult\u001b[0m\u001b[0;34m(\u001b[0m\u001b[0;34m)\u001b[0m \u001b[0;32mfor\u001b[0m \u001b[0mf\u001b[0m \u001b[0;32min\u001b[0m \u001b[0mfs\u001b[0m\u001b[0;34m]\u001b[0m\u001b[0;34m\u001b[0m\u001b[0m\n\u001b[0m",
      "\u001b[0;32m/home/yawen/pywren/pywren/future.pyc\u001b[0m in \u001b[0;36mresult\u001b[0;34m(self, timeout, check_only, throw_except, storage_handler)\u001b[0m\n\u001b[1;32m    198\u001b[0m             \u001b[0;32melse\u001b[0m\u001b[0;34m:\u001b[0m\u001b[0;34m\u001b[0m\u001b[0m\n\u001b[1;32m    199\u001b[0m                 \u001b[0;31m# reraise the exception\u001b[0m\u001b[0;34m\u001b[0m\u001b[0;34m\u001b[0m\u001b[0m\n\u001b[0;32m--> 200\u001b[0;31m                 \u001b[0mreraise\u001b[0m\u001b[0;34m(\u001b[0m\u001b[0;34m*\u001b[0m\u001b[0mself\u001b[0m\u001b[0;34m.\u001b[0m\u001b[0m_traceback\u001b[0m\u001b[0;34m)\u001b[0m\u001b[0;34m\u001b[0m\u001b[0m\n\u001b[0m\u001b[1;32m    201\u001b[0m         \u001b[0;32melse\u001b[0m\u001b[0;34m:\u001b[0m\u001b[0;34m\u001b[0m\u001b[0m\n\u001b[1;32m    202\u001b[0m             \u001b[0;32mreturn\u001b[0m \u001b[0mNone\u001b[0m  \u001b[0;31m# nothing, don't raise, no value\u001b[0m\u001b[0;34m\u001b[0m\u001b[0m\n",
      "\u001b[0;32m/var/task/jobrunner.py\u001b[0m in \u001b[0;36m<module>\u001b[0;34m()\u001b[0m\n",
      "\u001b[0;32m<ipython-input-33-bd47d6595089>\u001b[0m in \u001b[0;36mlatency_no_gateway\u001b[0;34m()\u001b[0m\n\u001b[1;32m     13\u001b[0m     \u001b[0;32melif\u001b[0m \u001b[0mn_digits\u001b[0m \u001b[0;34m==\u001b[0m \u001b[0;36m3\u001b[0m\u001b[0;34m:\u001b[0m\u001b[0;34m\u001b[0m\u001b[0m\n\u001b[1;32m     14\u001b[0m         \u001b[0mbin_port\u001b[0m \u001b[0;34m=\u001b[0m \u001b[0;34m'40'\u001b[0m\u001b[0;34m+\u001b[0m\u001b[0mstr\u001b[0m\u001b[0;34m(\u001b[0m\u001b[0mid\u001b[0m\u001b[0;34m)\u001b[0m\u001b[0;34m\u001b[0m\u001b[0m\n\u001b[0;32m---> 15\u001b[0;31m     \u001b[0mredis\u001b[0m \u001b[0;34m=\u001b[0m \u001b[0mRedis\u001b[0m\u001b[0;34m(\u001b[0m\u001b[0mgateway_ip\u001b[0m\u001b[0;34m,\u001b[0m \u001b[0mint\u001b[0m\u001b[0;34m(\u001b[0m\u001b[0mgateway_port\u001b[0m\u001b[0;34m)\u001b[0m\u001b[0;34m,\u001b[0m \u001b[0mbind_port\u001b[0m\u001b[0;34m=\u001b[0m\u001b[0mint\u001b[0m\u001b[0;34m(\u001b[0m\u001b[0mbind_port\u001b[0m\u001b[0;34m)\u001b[0m\u001b[0;34m)\u001b[0m\u001b[0;34m\u001b[0m\u001b[0m\n\u001b[0m\u001b[1;32m     16\u001b[0m     \u001b[0mt3\u001b[0m \u001b[0;34m=\u001b[0m \u001b[0mtime\u001b[0m\u001b[0;34m.\u001b[0m\u001b[0mtime\u001b[0m\u001b[0;34m(\u001b[0m\u001b[0;34m)\u001b[0m\u001b[0;34m\u001b[0m\u001b[0m\n\u001b[1;32m     17\u001b[0m     \u001b[0mredis\u001b[0m\u001b[0;34m.\u001b[0m\u001b[0mset\u001b[0m\u001b[0;34m(\u001b[0m\u001b[0;34m'k'\u001b[0m\u001b[0;34m,\u001b[0m \u001b[0;34m'v'\u001b[0m\u001b[0;34m)\u001b[0m \u001b[0;31m# excluding the gateway roundtrip time\u001b[0m\u001b[0;34m\u001b[0m\u001b[0m\n",
      "\u001b[0;31mUnboundLocalError\u001b[0m: local variable 'bind_port' referenced before assignment"
     ]
    }
   ],
   "source": [
    "args_list = []\n",
    "n_lambda = 100\n",
    "print str(n_lambda) + \" lambdas\" \n",
    "print \"test\"\n",
    "for i in range(n_lambda):\n",
    "    args_list.append([1, i])\n",
    "\n",
    "time0 = time.time()\n",
    "futures = wrenexec.map(latency_no_gateway, args_list)\n",
    "results = pywren.get_all_results(futures)\n",
    "time1 = time.time()\n",
    "t_total = time1-time0\n",
    "print str(t_total) + \" sec\"\n",
    "\n",
    "result = [0, 0, 0]\n",
    "result_full = [[], [], []]\n",
    "for res in results:\n",
    "    result[0] += res[1]\n",
    "    result_full[0].append(res[1])\n",
    "    result[1] += res[2]\n",
    "    result_full[1].append(res[2])\n",
    "    result[2] += res[3]\n",
    "    result_full[2].append(res[3])\n",
    "result[0] /= len(futures)\n",
    "result[1] /= len(futures)\n",
    "result[2] /= len(futures)\n",
    "result_write = np.array(result_full[0])\n",
    "result_read = np.array(result_full[1])\n",
    "result_gateway = np.array(result_full[2])\n",
    "print [np.percentile(result_write, 100), np.percentile(result_read, 100), np.percentile(result_gateway, 100)]\n",
    "print result #avg write time, avg read time"
   ]
  },
  {
   "cell_type": "code",
   "execution_count": null,
   "metadata": {},
   "outputs": [],
   "source": [
    "args_list = []\n",
    "n_lambda = 500\n",
    "print str(n_lambda) + \" lambdas\" \n",
    "for i in range(n_lambda):\n",
    "    args_list.append([1, i])\n",
    "\n",
    "time0 = time.time()\n",
    "futures = wrenexec.map(latency_no_gateway, args_list)\n",
    "results = pywren.get_all_results(futures)\n",
    "time1 = time.time()\n",
    "t_total = time1-time0\n",
    "print str(t_total) + \" sec\"\n",
    "\n",
    "result = [0, 0, 0]\n",
    "result_full = [[], [], []]\n",
    "for res in results:\n",
    "    result[0] += res[1]\n",
    "    result_full[0].append(res[1])\n",
    "    result[1] += res[2]\n",
    "    result_full[1].append(res[2])\n",
    "    result[2] += res[3]\n",
    "    result_full[2].append(res[3])\n",
    "result[0] /= len(futures)\n",
    "result[1] /= len(futures)\n",
    "result[2] /= len(futures)\n",
    "result_write = np.array(result_full[0])\n",
    "result_read = np.array(result_full[1])\n",
    "result_gateway = np.array(result_full[2])\n",
    "print [np.percentile(result_write, 100), np.percentile(result_read, 100), np.percentile(result_gateway, 100)]\n",
    "print result #avg write time, avg read time"
   ]
  }
 ],
 "metadata": {
  "anaconda-cloud": {},
  "kernelspec": {
   "display_name": "Python 2",
   "language": "python",
   "name": "python2"
  },
  "language_info": {
   "codemirror_mode": {
    "name": "ipython",
    "version": 2
   },
   "file_extension": ".py",
   "mimetype": "text/x-python",
   "name": "python",
   "nbconvert_exporter": "python",
   "pygments_lexer": "ipython2",
   "version": "2.7.12"
  },
  "toc": {
   "nav_menu": {
    "height": "12px",
    "width": "252px"
   },
   "navigate_menu": true,
   "number_sections": true,
   "sideBar": true,
   "threshold": 4,
   "toc_cell": false,
   "toc_section_display": "block",
   "toc_window_display": false
  }
 },
 "nbformat": 4,
 "nbformat_minor": 2
}
