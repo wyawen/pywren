{
 "cells": [
  {
   "cell_type": "code",
   "execution_count": 1,
   "metadata": {},
   "outputs": [],
   "source": [
    "import pywren\n",
    "import pickle\n",
    "import time\n",
    "import numpy as np\n",
    "\n",
    "from redis import Redis\n",
    "\n",
    "def latency(n):\n",
    "    host='redis-bench.qituln.0001.usw1.cache.amazonaws.com'\n",
    "    port=6379\n",
    "    redis = Redis(host=host, port=port)\n",
    "    \n",
    "    random_num = np.random.rand(1, n) #generate n floats (each becomes 20B after serializing)\n",
    "    rand_serial = pickle.dumps(random_num)\n",
    "    t0 = time.time()\n",
    "    for i in range(100):\n",
    "        redis.set(i, rand_serial)\n",
    "    t1 = time.time()\n",
    "    for i in range(100):\n",
    "        redis.get(i)\n",
    "    t2 = time.time()\n",
    "    return (n, (t1-t0)*10, (t2-t1)*10) # time in ms "
   ]
  },
  {
   "cell_type": "code",
   "execution_count": 2,
   "metadata": {
    "run_control": {
     "frozen": false,
     "read_only": false
    }
   },
   "outputs": [],
   "source": [
    "wrenexec = pywren.default_executor()"
   ]
  },
  {
   "cell_type": "code",
   "execution_count": 3,
   "metadata": {},
   "outputs": [
    {
     "name": "stdout",
     "output_type": "stream",
     "text": [
      "[1.1923098564147949, 1.0739302635192871]\n",
      "[1.192309856414795, 1.073930263519287]\n"
     ]
    }
   ],
   "source": [
    "args_list = [1] * 1\n",
    "futures = []\n",
    "for i in args_list:\n",
    "    futures.append(wrenexec.async_call(latency, i))\n",
    "# futures = wrenexec.map(latency, args_list)\n",
    "result = [0, 0]\n",
    "result_full = [[], []]\n",
    "for future in futures:\n",
    "    res = future.result()\n",
    "    result[0] += res[1]\n",
    "    result_full[0].append(res[1])\n",
    "    result[1] += res[2]\n",
    "    result_full[1].append(res[2])\n",
    "result[0] /= len(futures)\n",
    "result[1] /= len(futures)\n",
    "result_write = np.array(result_full[0])\n",
    "result_read = np.array(result_full[1])\n",
    "print [np.percentile(result_write, 100), np.percentile(result_read, 100)]\n",
    "print result"
   ]
  },
  {
   "cell_type": "code",
   "execution_count": 10,
   "metadata": {},
   "outputs": [
    {
     "name": "stdout",
     "output_type": "stream",
     "text": [
      "[1.5724086761474609, 1.091468334197998]\n",
      "[1.31427001953125, 1.0669760704040527]\n"
     ]
    }
   ],
   "source": [
    "args_list = [1] * 10\n",
    "futures = wrenexec.map(latency, args_list)\n",
    "result = [0, 0]\n",
    "result_full = [[], []]\n",
    "for future in futures:\n",
    "    res = future.result()\n",
    "    result[0] += res[1]\n",
    "    result_full[0].append(res[1])\n",
    "    result[1] += res[2]\n",
    "    result_full[1].append(res[2])\n",
    "result[0] /= len(futures)\n",
    "result[1] /= len(futures)\n",
    "result_write = np.array(result_full[0])\n",
    "result_read = np.array(result_full[1])\n",
    "print [np.percentile(result_write, 100), np.percentile(result_read, 100)]\n",
    "print result"
   ]
  },
  {
   "cell_type": "code",
   "execution_count": 9,
   "metadata": {},
   "outputs": [
    {
     "name": "stdout",
     "output_type": "stream",
     "text": [
      "[1.5917491912841797, 1.1459803581237793]\n",
      "[1.1212905406951905, 1.0678942680358887]\n",
      "[[1.5917491912841797, 1.161489486694336, 1.1875009536743164, 1.0925698280334473, 1.0810208320617676, 1.0788798332214355, 1.0824394226074219, 1.0849976539611816, 1.0973119735717773, 1.4946389198303223, 1.115710735321045, 1.0901594161987305, 1.1054015159606934, 1.0887789726257324, 1.093289852142334, 1.1100983619689941, 1.0823798179626465, 1.172788143157959, 1.1061811447143555, 1.521608829498291, 1.0592293739318848, 1.0707497596740723, 1.0854697227478027, 1.1005306243896484, 1.0830402374267578, 1.1094999313354492, 1.0622382164001465, 1.0702896118164062, 1.086108684539795, 1.0584282875061035, 1.0907888412475586, 1.0873603820800781, 1.4826083183288574, 1.094210147857666, 1.119978427886963, 1.0618400573730469, 1.103661060333252, 1.1230206489562988, 1.0585904121398926, 1.1019706726074219, 1.0904598236083984, 1.1697101593017578, 1.0826706886291504, 1.0925817489624023, 1.1349797248840332, 1.0853099822998047, 1.0855793952941895, 1.1234593391418457, 1.0738706588745117, 1.0907697677612305, 1.0824203491210938, 1.1022305488586426, 1.1652803421020508, 1.1293601989746094, 1.0916900634765625, 1.093738079071045, 1.0534191131591797, 1.0820698738098145, 1.0855698585510254, 1.1118793487548828, 1.12839937210083, 1.0697293281555176, 1.102910041809082, 1.0822582244873047, 1.139070987701416, 1.0857796669006348, 1.0661697387695312, 1.103529930114746, 1.0752201080322266, 1.0658907890319824, 1.1108708381652832, 1.0758399963378906, 1.1664295196533203, 1.0927700996398926, 1.1172199249267578, 1.5447807312011719, 1.0768818855285645, 1.0753583908081055, 1.144709587097168, 1.071939468383789, 1.071159839630127, 1.1049389839172363, 1.1317706108093262, 1.0708093643188477, 1.1627912521362305, 1.1135315895080566, 1.075880527496338, 1.119859218597412, 1.0820198059082031, 1.1394381523132324, 1.146531105041504, 1.0794997215270996, 1.1105799674987793, 1.1568093299865723, 1.104419231414795, 1.1031007766723633, 1.1151504516601562, 1.0799407958984375, 1.0695981979370117, 1.1198091506958008], [1.0771799087524414, 1.0934710502624512, 1.0720205307006836, 1.0391688346862793, 1.0659003257751465, 1.0612201690673828, 1.0558104515075684, 1.0889911651611328, 1.063368320465088, 1.0455012321472168, 1.064000129699707, 1.0502314567565918, 1.0713696479797363, 1.0746121406555176, 1.0747194290161133, 1.0506415367126465, 1.1459803581237793, 1.0616302490234375, 1.0569286346435547, 1.0686993598937988, 1.040360927581787, 1.061561107635498, 1.0747599601745605, 1.0519194602966309, 1.0656285285949707, 1.09375, 1.0427403450012207, 1.0534906387329102, 1.0675311088562012, 1.045081615447998, 1.0774707794189453, 1.0738301277160645, 1.0468602180480957, 1.0586905479431152, 1.0636711120605469, 1.0520720481872559, 1.0530400276184082, 1.0637402534484863, 1.0427403450012207, 1.0649299621582031, 1.0865998268127441, 1.070570945739746, 1.0593390464782715, 1.0592985153198242, 1.0584402084350586, 1.0654997825622559, 1.072700023651123, 1.093740463256836, 1.0634589195251465, 1.060791015625, 1.042490005493164, 1.0689687728881836, 1.0868501663208008, 1.107947826385498, 1.073760986328125, 1.0736608505249023, 1.0427093505859375, 1.0760307312011719, 1.0493993759155273, 1.0501694679260254, 1.0596704483032227, 1.0483789443969727, 1.087040901184082, 1.0556697845458984, 1.1034107208251953, 1.0589909553527832, 1.0474491119384766, 1.037130355834961, 1.0624289512634277, 1.0411500930786133, 1.0988283157348633, 1.0668206214904785, 1.0424613952636719, 1.0440802574157715, 1.0602092742919922, 1.1211204528808594, 1.0555791854858398, 1.073920726776123, 1.0965991020202637, 1.048572063446045, 1.0541105270385742, 1.100311279296875, 1.0585308074951172, 1.0558414459228516, 1.1153006553649902, 1.0562992095947266, 1.0582399368286133, 1.1106204986572266, 1.069321632385254, 1.0823416709899902, 1.100478172302246, 1.0610103607177734, 1.0643196105957031, 1.1017990112304688, 1.0660409927368164, 1.0641288757324219, 1.088709831237793, 1.0782790184020996, 1.058650016784668, 1.0978412628173828]]\n"
     ]
    }
   ],
   "source": [
    "args_list = [1] * 100\n",
    "futures = wrenexec.map(latency, args_list)\n",
    "result = [0, 0]\n",
    "result_full = [[], []]\n",
    "for future in futures:\n",
    "    res = future.result()\n",
    "    result[0] += res[1]\n",
    "    result_full[0].append(res[1])\n",
    "    result[1] += res[2]\n",
    "    result_full[1].append(res[2])\n",
    "result[0] /= len(futures)\n",
    "result[1] /= len(futures)\n",
    "result_write = np.array(result_full[0])\n",
    "result_read = np.array(result_full[1])\n",
    "print [np.percentile(result_write, 100), np.percentile(result_read, 100)]\n",
    "print result"
   ]
  },
  {
   "cell_type": "code",
   "execution_count": 6,
   "metadata": {},
   "outputs": [
    {
     "name": "stdout",
     "output_type": "stream",
     "text": [
      "[3.3714199066162109, 1.3668704032897949]\n",
      "[1.1675175952911376, 1.1070782732963562]\n"
     ]
    }
   ],
   "source": [
    "args_list = [1] * 1000\n",
    "futures = wrenexec.map(latency, args_list)\n",
    "result = [0, 0]\n",
    "result_full = [[], []]\n",
    "for future in futures:\n",
    "    res = future.result()\n",
    "    result[0] += res[1]\n",
    "    result_full[0].append(res[1])\n",
    "    result[1] += res[2]\n",
    "    result_full[1].append(res[2])\n",
    "result[0] /= len(futures)\n",
    "result[1] /= len(futures)\n",
    "result_write = np.array(result_full[0])\n",
    "result_read = np.array(result_full[1])\n",
    "print [np.percentile(result_write, 100), np.percentile(result_read, 100)]\n",
    "print result"
   ]
  },
  {
   "cell_type": "code",
   "execution_count": null,
   "metadata": {},
   "outputs": [],
   "source": []
  }
 ],
 "metadata": {
  "anaconda-cloud": {},
  "kernelspec": {
   "display_name": "Python 2",
   "language": "python",
   "name": "python2"
  },
  "language_info": {
   "codemirror_mode": {
    "name": "ipython",
    "version": 2
   },
   "file_extension": ".py",
   "mimetype": "text/x-python",
   "name": "python",
   "nbconvert_exporter": "python",
   "pygments_lexer": "ipython2",
   "version": "2.7.12"
  },
  "toc": {
   "nav_menu": {
    "height": "12px",
    "width": "252px"
   },
   "navigate_menu": true,
   "number_sections": true,
   "sideBar": true,
   "threshold": 4,
   "toc_cell": false,
   "toc_section_display": "block",
   "toc_window_display": false
  }
 },
 "nbformat": 4,
 "nbformat_minor": 2
}
