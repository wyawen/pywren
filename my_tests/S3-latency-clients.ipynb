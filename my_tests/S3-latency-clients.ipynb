{
 "cells": [
  {
   "cell_type": "code",
   "execution_count": 6,
   "metadata": {},
   "outputs": [],
   "source": [
    "import pywren\n",
    "import pickle \n",
    "import time\n",
    "import boto3\n",
    "import numpy as np\n",
    "\n",
    "def latency(n):\n",
    "    s3_client = boto3.client('s3')\n",
    "    bucket_name = 'latency-kostis'\n",
    "    \n",
    "    random_num = np.random.rand(1, n) #generate n floats (each becomes 20B after serializing)\n",
    "    rand_serial = pickle.dumps(random_num)\n",
    "    t0 = time.time()\n",
    "    for i in range(100):\n",
    "        s3_client.put_object(\n",
    "            Bucket = bucket_name,\n",
    "            Body = rand_serial,\n",
    "            Key = 'tmp'+str(n)+'/'+str(i)\n",
    "        )   \n",
    "    t1 = time.time()\n",
    "    for i in range(100):\n",
    "        s3_client.get_object(Bucket=bucket_name, Key='tmp'+str(n)+'/'+str(i))['Body'].read()\n",
    "    t2 = time.time()\n",
    "    return (n, (t1-t0)*10, (t2-t1)*10) # time in ms "
   ]
  },
  {
   "cell_type": "code",
   "execution_count": 7,
   "metadata": {
    "run_control": {
     "frozen": false,
     "read_only": false
    }
   },
   "outputs": [],
   "source": [
    "wrenexec = pywren.default_executor()"
   ]
  },
  {
   "cell_type": "code",
   "execution_count": 8,
   "metadata": {},
   "outputs": [
    {
     "name": "stdout",
     "output_type": "stream",
     "text": [
      "[24.537880420684814, 11.810991764068604]\n",
      "[24.537880420684814, 11.810991764068604]\n"
     ]
    }
   ],
   "source": [
    "args_list = [1] * 1\n",
    "futures = wrenexec.map(latency, args_list)\n",
    "result = [0, 0]\n",
    "result_full = [[], []]\n",
    "for future in futures:\n",
    "    res = future.result()\n",
    "    result[0] += res[1]\n",
    "    result_full[0].append(res[1])\n",
    "    result[1] += res[2]\n",
    "    result_full[1].append(res[2])\n",
    "result[0] /= len(futures)\n",
    "result[1] /= len(futures)\n",
    "result_write = np.array(result_full[0])\n",
    "result_read = np.array(result_full[1])\n",
    "print [np.percentile(result_write, 100), np.percentile(result_read, 100)]\n",
    "print result"
   ]
  },
  {
   "cell_type": "code",
   "execution_count": 15,
   "metadata": {},
   "outputs": [
    {
     "name": "stdout",
     "output_type": "stream",
     "text": [
      "[26.474411487579346, 16.700279712677002]\n",
      "[24.388997316360474, 14.271677017211914]\n"
     ]
    }
   ],
   "source": [
    "args_list = [1] * 10\n",
    "futures = wrenexec.map(latency, args_list)\n",
    "result = [0, 0]\n",
    "result_full = [[], []]\n",
    "for future in futures:\n",
    "    res = future.result()\n",
    "    result[0] += res[1]\n",
    "    result_full[0].append(res[1])\n",
    "    result[1] += res[2]\n",
    "    result_full[1].append(res[2])\n",
    "result[0] /= len(futures)\n",
    "result[1] /= len(futures)\n",
    "result_write = np.array(result_full[0])\n",
    "result_read = np.array(result_full[1])\n",
    "print [np.percentile(result_write, 100), np.percentile(result_read, 100)]\n",
    "print result"
   ]
  },
  {
   "cell_type": "code",
   "execution_count": 13,
   "metadata": {},
   "outputs": [
    {
     "name": "stdout",
     "output_type": "stream",
     "text": [
      "[39.418289661407471, 17.398779392242432]\n",
      "[27.095448565483093, 13.480706119537354]\n"
     ]
    }
   ],
   "source": [
    "args_list = [1] * 100\n",
    "futures = wrenexec.map(latency, args_list)\n",
    "result = [0, 0]\n",
    "result_full = [[], []]\n",
    "for future in futures:\n",
    "    res = future.result()\n",
    "    result[0] += res[1]\n",
    "    result_full[0].append(res[1])\n",
    "    result[1] += res[2]\n",
    "    result_full[1].append(res[2])\n",
    "result[0] /= len(futures)\n",
    "result[1] /= len(futures)\n",
    "result_write = np.array(result_full[0])\n",
    "result_read = np.array(result_full[1])\n",
    "print [np.percentile(result_write, 100), np.percentile(result_read, 100)]\n",
    "print result"
   ]
  },
  {
   "cell_type": "code",
   "execution_count": 12,
   "metadata": {},
   "outputs": [
    {
     "name": "stderr",
     "output_type": "stream",
     "text": [
      "WARNING:root:there was an error pickling. The original exception: An error occurred (SlowDown) when calling the PutObject operation (reached max retries: 4): Please reduce your request rate.\n",
      "The pickling exception: ('__init__() takes exactly 3 arguments (2 given)', <class 'botocore.exceptions.ClientError'>, (u'An error occurred (SlowDown) when calling the PutObject operation (reached max retries: 4): Please reduce your request rate.',))\n"
     ]
    },
    {
     "ename": "Exception",
     "evalue": "An error occurred (SlowDown) when calling the PutObject operation (reached max retries: 4): Please reduce your request rate.",
     "output_type": "error",
     "traceback": [
      "\u001b[0;31m---------------------------------------------------------------------------\u001b[0m",
      "\u001b[0;31mException\u001b[0m                                 Traceback (most recent call last)",
      "\u001b[0;32m<ipython-input-12-f5dd1239d533>\u001b[0m in \u001b[0;36m<module>\u001b[0;34m()\u001b[0m\n\u001b[1;32m      4\u001b[0m \u001b[0mresult_full\u001b[0m \u001b[0;34m=\u001b[0m \u001b[0;34m[\u001b[0m\u001b[0;34m[\u001b[0m\u001b[0;34m]\u001b[0m\u001b[0;34m,\u001b[0m \u001b[0;34m[\u001b[0m\u001b[0;34m]\u001b[0m\u001b[0;34m]\u001b[0m\u001b[0;34m\u001b[0m\u001b[0m\n\u001b[1;32m      5\u001b[0m \u001b[0;32mfor\u001b[0m \u001b[0mfuture\u001b[0m \u001b[0;32min\u001b[0m \u001b[0mfutures\u001b[0m\u001b[0;34m:\u001b[0m\u001b[0;34m\u001b[0m\u001b[0m\n\u001b[0;32m----> 6\u001b[0;31m     \u001b[0mres\u001b[0m \u001b[0;34m=\u001b[0m \u001b[0mfuture\u001b[0m\u001b[0;34m.\u001b[0m\u001b[0mresult\u001b[0m\u001b[0;34m(\u001b[0m\u001b[0;34m)\u001b[0m\u001b[0;34m\u001b[0m\u001b[0m\n\u001b[0m\u001b[1;32m      7\u001b[0m     \u001b[0mresult\u001b[0m\u001b[0;34m[\u001b[0m\u001b[0;36m0\u001b[0m\u001b[0;34m]\u001b[0m \u001b[0;34m+=\u001b[0m \u001b[0mres\u001b[0m\u001b[0;34m[\u001b[0m\u001b[0;36m1\u001b[0m\u001b[0;34m]\u001b[0m\u001b[0;34m\u001b[0m\u001b[0m\n\u001b[1;32m      8\u001b[0m     \u001b[0mresult_full\u001b[0m\u001b[0;34m[\u001b[0m\u001b[0;36m0\u001b[0m\u001b[0;34m]\u001b[0m\u001b[0;34m.\u001b[0m\u001b[0mappend\u001b[0m\u001b[0;34m(\u001b[0m\u001b[0mres\u001b[0m\u001b[0;34m[\u001b[0m\u001b[0;36m1\u001b[0m\u001b[0;34m]\u001b[0m\u001b[0;34m)\u001b[0m\u001b[0;34m\u001b[0m\u001b[0m\n",
      "\u001b[0;32m/home/kkaffes/.local/lib/python2.7/site-packages/pywren/future.pyc\u001b[0m in \u001b[0;36mresult\u001b[0;34m(self, timeout, check_only, throw_except, storage_handler)\u001b[0m\n\u001b[1;32m    197\u001b[0m \u001b[0;34m\u001b[0m\u001b[0m\n\u001b[1;32m    198\u001b[0m                 reraise(Exception, call_invoker_result['exc_value'],\n\u001b[0;32m--> 199\u001b[0;31m                         call_invoker_result['exc_traceback'])\n\u001b[0m\u001b[1;32m    200\u001b[0m             \u001b[0;32melse\u001b[0m\u001b[0;34m:\u001b[0m\u001b[0;34m\u001b[0m\u001b[0m\n\u001b[1;32m    201\u001b[0m                 \u001b[0;31m# reraise the exception\u001b[0m\u001b[0;34m\u001b[0m\u001b[0;34m\u001b[0m\u001b[0m\n",
      "\u001b[0;32m/var/task/jobrunner.py\u001b[0m in \u001b[0;36m<module>\u001b[0;34m()\u001b[0m\n",
      "\u001b[0;32m<ipython-input-6-ecf3146d87e9>\u001b[0m in \u001b[0;36mlatency\u001b[0;34m()\u001b[0m\n\u001b[1;32m     16\u001b[0m             \u001b[0mBucket\u001b[0m \u001b[0;34m=\u001b[0m \u001b[0mbucket_name\u001b[0m\u001b[0;34m,\u001b[0m\u001b[0;34m\u001b[0m\u001b[0m\n\u001b[1;32m     17\u001b[0m             \u001b[0mBody\u001b[0m \u001b[0;34m=\u001b[0m \u001b[0mrand_serial\u001b[0m\u001b[0;34m,\u001b[0m\u001b[0;34m\u001b[0m\u001b[0m\n\u001b[0;32m---> 18\u001b[0;31m             \u001b[0mKey\u001b[0m \u001b[0;34m=\u001b[0m \u001b[0;34m'tmp'\u001b[0m\u001b[0;34m+\u001b[0m\u001b[0mstr\u001b[0m\u001b[0;34m(\u001b[0m\u001b[0mn\u001b[0m\u001b[0;34m)\u001b[0m\u001b[0;34m+\u001b[0m\u001b[0;34m'/'\u001b[0m\u001b[0;34m+\u001b[0m\u001b[0mstr\u001b[0m\u001b[0;34m(\u001b[0m\u001b[0mi\u001b[0m\u001b[0;34m)\u001b[0m\u001b[0;34m\u001b[0m\u001b[0m\n\u001b[0m\u001b[1;32m     19\u001b[0m         )   \n\u001b[1;32m     20\u001b[0m     \u001b[0mt1\u001b[0m \u001b[0;34m=\u001b[0m \u001b[0mtime\u001b[0m\u001b[0;34m.\u001b[0m\u001b[0mtime\u001b[0m\u001b[0;34m(\u001b[0m\u001b[0;34m)\u001b[0m\u001b[0;34m\u001b[0m\u001b[0m\n",
      "\u001b[0;32m/tmp/condaruntime/lib/python2.7/site-packages/botocore/client.pyc\u001b[0m in \u001b[0;36m_api_call\u001b[0;34m()\u001b[0m\n",
      "\u001b[0;32m/tmp/condaruntime/lib/python2.7/site-packages/botocore/client.pyc\u001b[0m in \u001b[0;36m_make_api_call\u001b[0;34m()\u001b[0m\n",
      "\u001b[0;31mException\u001b[0m: An error occurred (SlowDown) when calling the PutObject operation (reached max retries: 4): Please reduce your request rate."
     ]
    }
   ],
   "source": [
    "args_list = [1] * 1000\n",
    "futures = wrenexec.map(latency, args_list)\n",
    "result = [0, 0]\n",
    "result_full = [[], []]\n",
    "for future in futures:\n",
    "    res = future.result()\n",
    "    result[0] += res[1]\n",
    "    result_full[0].append(res[1])\n",
    "    result[1] += res[2]\n",
    "    result_full[1].append(res[2])\n",
    "result[0] /= len(futures)\n",
    "result[1] /= len(futures)\n",
    "result_write = np.array(result_full[0])\n",
    "result_read = np.array(result_full[1])\n",
    "print [np.percentile(result_write, 100), np.percentile(result_read, 100)]\n",
    "print result"
   ]
  },
  {
   "cell_type": "code",
   "execution_count": null,
   "metadata": {},
   "outputs": [],
   "source": []
  }
 ],
 "metadata": {
  "anaconda-cloud": {},
  "kernelspec": {
   "display_name": "Python 2",
   "language": "python",
   "name": "python2"
  },
  "language_info": {
   "codemirror_mode": {
    "name": "ipython",
    "version": 2
   },
   "file_extension": ".py",
   "mimetype": "text/x-python",
   "name": "python",
   "nbconvert_exporter": "python",
   "pygments_lexer": "ipython2",
   "version": "2.7.12"
  },
  "toc": {
   "nav_menu": {
    "height": "12px",
    "width": "252px"
   },
   "navigate_menu": true,
   "number_sections": true,
   "sideBar": true,
   "threshold": 4,
   "toc_cell": false,
   "toc_section_display": "block",
   "toc_window_display": false
  }
 },
 "nbformat": 4,
 "nbformat_minor": 2
}
