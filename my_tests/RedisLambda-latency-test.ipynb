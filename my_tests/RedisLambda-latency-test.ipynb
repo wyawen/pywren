{
 "cells": [
  {
   "cell_type": "code",
   "execution_count": 2,
   "metadata": {
    "collapsed": true
   },
   "outputs": [],
   "source": [
    "import pywren\n",
    "import pickle \n",
    "import time\n",
    "\n",
    "def latency(n):\n",
    "    from redis import Redis\n",
    "    \n",
    "    gateway_ip = '54.212.247.168'\n",
    "    gateway_port = '8888'\n",
    "    bind_port = '40000'\n",
    "    redis = Redis(gateway_ip, int(gateway_port), bind_port=int(bind_port))\n",
    "    \n",
    "    random_num = np.random.rand(1, n) #generate n floats (each becomes 20B after serializing)\n",
    "    rand_serial = pickle.dumps(random_num)\n",
    "    t0 = time.time()\n",
    "    for i in range(100):\n",
    "        redis.set(i, rand_serial)\n",
    "    t1 = time.time()\n",
    "    for i in range(100):\n",
    "        redis.get(i)\n",
    "    t2 = time.time()\n",
    "    return (n, (t1-t0)*10, (t2-t1)*10) # time in ms "
   ]
  },
  {
   "cell_type": "code",
   "execution_count": 3,
   "metadata": {
    "collapsed": true
   },
   "outputs": [],
   "source": [
    "def latency_no_gateway(n):\n",
    "    from redis import Redis\n",
    "    \n",
    "    gateway_ip = '54.212.247.168'\n",
    "    gateway_port = '8888'\n",
    "    bind_port = '40000'\n",
    "    redis = Redis(gateway_ip, int(gateway_port), bind_port=int(bind_port))\n",
    "    t3 = time.time()\n",
    "    redis.set('k', 'v') # excluding the gateway roundtrip time \n",
    "    t4 = time.time()\n",
    "    \n",
    "    random_num = np.random.rand(1, n) #generate n floats (each becomes 20B after serializing)\n",
    "    rand_serial = pickle.dumps(random_num)\n",
    "    t0 = time.time()\n",
    "    for i in range(100):\n",
    "        redis.set(i, rand_serial)\n",
    "    t1 = time.time()\n",
    "    for i in range(100):\n",
    "        redis.get(i)\n",
    "    t2 = time.time()\n",
    "    return (n, (t1-t0)*10, (t2-t1)*10, (t4-t3)*1000) # time in ms "
   ]
  },
  {
   "cell_type": "code",
   "execution_count": 24,
   "metadata": {
    "collapsed": true,
    "run_control": {
     "frozen": false,
     "read_only": false
    }
   },
   "outputs": [],
   "source": [
    "wrenexec = pywren.default_executor()"
   ]
  },
  {
   "cell_type": "code",
   "execution_count": 16,
   "metadata": {},
   "outputs": [
    {
     "data": {
      "text/plain": [
       "(1, 12.15857982635498, 4.605951309204102)"
      ]
     },
     "execution_count": 16,
     "metadata": {},
     "output_type": "execute_result"
    }
   ],
   "source": [
    "future = wrenexec.call_async(latency, 1)\n",
    "future.result()"
   ]
  },
  {
   "cell_type": "code",
   "execution_count": 34,
   "metadata": {},
   "outputs": [
    {
     "data": {
      "text/plain": [
       "(1, 3.398590087890625, 3.3980488777160645, 851.0119915008545)"
      ]
     },
     "execution_count": 34,
     "metadata": {},
     "output_type": "execute_result"
    }
   ],
   "source": [
    "future = wrenexec.call_async(latency_no_gateway, 1)\n",
    "future.result()"
   ]
  },
  {
   "cell_type": "code",
   "execution_count": 20,
   "metadata": {},
   "outputs": [
    {
     "ename": "ConnectionError",
     "evalue": "Error 32 while writing to socket. Broken pipe.",
     "output_type": "error",
     "traceback": [
      "\u001b[0;31m---------------------------------------------------------------------------\u001b[0m",
      "\u001b[0;31mConnectionError\u001b[0m                           Traceback (most recent call last)",
      "\u001b[0;32m<ipython-input-20-036f16ed0758>\u001b[0m in \u001b[0;36m<module>\u001b[0;34m()\u001b[0m\n\u001b[1;32m      1\u001b[0m \u001b[0mfuture\u001b[0m \u001b[0;34m=\u001b[0m \u001b[0mwrenexec\u001b[0m\u001b[0;34m.\u001b[0m\u001b[0mcall_async\u001b[0m\u001b[0;34m(\u001b[0m\u001b[0mwrite_latency\u001b[0m\u001b[0;34m,\u001b[0m \u001b[0;36m500\u001b[0m\u001b[0;34m)\u001b[0m\u001b[0;34m\u001b[0m\u001b[0m\n\u001b[0;32m----> 2\u001b[0;31m \u001b[0mfuture\u001b[0m\u001b[0;34m.\u001b[0m\u001b[0mresult\u001b[0m\u001b[0;34m(\u001b[0m\u001b[0;34m)\u001b[0m\u001b[0;34m\u001b[0m\u001b[0m\n\u001b[0m",
      "\u001b[0;32m/Users/Yawen/Desktop/pywren/pywren/future.pyc\u001b[0m in \u001b[0;36mresult\u001b[0;34m(self, timeout, check_only, throw_except, storage_handler)\u001b[0m\n\u001b[1;32m    198\u001b[0m             \u001b[0;32melse\u001b[0m\u001b[0;34m:\u001b[0m\u001b[0;34m\u001b[0m\u001b[0m\n\u001b[1;32m    199\u001b[0m                 \u001b[0;31m# reraise the exception\u001b[0m\u001b[0;34m\u001b[0m\u001b[0;34m\u001b[0m\u001b[0m\n\u001b[0;32m--> 200\u001b[0;31m                 \u001b[0mreraise\u001b[0m\u001b[0;34m(\u001b[0m\u001b[0;34m*\u001b[0m\u001b[0mself\u001b[0m\u001b[0;34m.\u001b[0m\u001b[0m_traceback\u001b[0m\u001b[0;34m)\u001b[0m\u001b[0;34m\u001b[0m\u001b[0m\n\u001b[0m\u001b[1;32m    201\u001b[0m         \u001b[0;32melse\u001b[0m\u001b[0;34m:\u001b[0m\u001b[0;34m\u001b[0m\u001b[0m\n\u001b[1;32m    202\u001b[0m             \u001b[0;32mreturn\u001b[0m \u001b[0mNone\u001b[0m  \u001b[0;31m# nothing, don't raise, no value\u001b[0m\u001b[0;34m\u001b[0m\u001b[0m\n",
      "\u001b[0;32m/var/task/jobrunner.py\u001b[0m in \u001b[0;36m<module>\u001b[0;34m()\u001b[0m\n",
      "\u001b[0;32m<ipython-input-12-d5f6e14bfc19>\u001b[0m in \u001b[0;36mwrite_latency\u001b[0;34m()\u001b[0m\n\u001b[1;32m     11\u001b[0m     \u001b[0mt0\u001b[0m \u001b[0;34m=\u001b[0m \u001b[0mtime\u001b[0m\u001b[0;34m.\u001b[0m\u001b[0mtime\u001b[0m\u001b[0;34m(\u001b[0m\u001b[0;34m)\u001b[0m\u001b[0;34m\u001b[0m\u001b[0m\n\u001b[1;32m     12\u001b[0m     \u001b[0;32mfor\u001b[0m \u001b[0mi\u001b[0m \u001b[0;32min\u001b[0m \u001b[0mrange\u001b[0m\u001b[0;34m(\u001b[0m\u001b[0;36m100\u001b[0m\u001b[0;34m)\u001b[0m\u001b[0;34m:\u001b[0m\u001b[0;34m\u001b[0m\u001b[0m\n\u001b[0;32m---> 13\u001b[0;31m         \u001b[0mredis\u001b[0m\u001b[0;34m.\u001b[0m\u001b[0mset\u001b[0m\u001b[0;34m(\u001b[0m\u001b[0mi\u001b[0m\u001b[0;34m,\u001b[0m \u001b[0mrand_serial\u001b[0m\u001b[0;34m)\u001b[0m\u001b[0;34m\u001b[0m\u001b[0m\n\u001b[0m\u001b[1;32m     14\u001b[0m     \u001b[0mt1\u001b[0m \u001b[0;34m=\u001b[0m \u001b[0mtime\u001b[0m\u001b[0;34m.\u001b[0m\u001b[0mtime\u001b[0m\u001b[0;34m(\u001b[0m\u001b[0;34m)\u001b[0m\u001b[0;34m\u001b[0m\u001b[0m\n\u001b[1;32m     15\u001b[0m     \u001b[0;32mfor\u001b[0m \u001b[0mi\u001b[0m \u001b[0;32min\u001b[0m \u001b[0mrange\u001b[0m\u001b[0;34m(\u001b[0m\u001b[0;36m100\u001b[0m\u001b[0;34m)\u001b[0m\u001b[0;34m:\u001b[0m\u001b[0;34m\u001b[0m\u001b[0m\n",
      "\u001b[0;32m/var/task/redis/client.py\u001b[0m in \u001b[0;36mset\u001b[0;34m()\u001b[0m\n",
      "\u001b[0;32m/var/task/redis/client.py\u001b[0m in \u001b[0;36mexecute_command\u001b[0;34m()\u001b[0m\n",
      "\u001b[0;32m/var/task/redis/connection.py\u001b[0m in \u001b[0;36msend_command\u001b[0;34m()\u001b[0m\n",
      "\u001b[0;32m/var/task/redis/connection.py\u001b[0m in \u001b[0;36msend_packed_command\u001b[0;34m()\u001b[0m\n",
      "\u001b[0;31mConnectionError\u001b[0m: Error 32 while writing to socket. Broken pipe."
     ]
    }
   ],
   "source": [
    "future = wrenexec.call_async(latency, 500)\n",
    "future.result()\n",
    "\n",
    "'''\n",
    "[ec2-user@ip-172-31-23-239 LCP]$ python gateway_tcp.py \n",
    "Gateway started...\n",
    "Adding server ('54.244.178.162', 58116)\n",
    "7002\n",
    "received client\n",
    "Adding client ('54.244.178.162', 52394)\n",
    "server need to be udpated\n",
    "GATEWAY: Clients sent to servers\n",
    "\n",
    "Adding server ('54.244.178.162', 57754)\n",
    "7002\n",
    "GATEWAY: Servers sent to clients\n",
    "Exception in thread Thread-2:\n",
    "Traceback (most recent call last):\n",
    "  File \"/usr/lib64/python2.7/threading.py\", line 804, in __bootstrap_inner\n",
    "    self.run()\n",
    "  File \"gateway_tcp.py\", line 29, in run\n",
    "    data = self.conn.recv(4096)\n",
    "error: [Errno 104] Connection reset by peer\n",
    "'''"
   ]
  }
 ],
 "metadata": {
  "anaconda-cloud": {},
  "kernelspec": {
   "display_name": "Python 2",
   "language": "python",
   "name": "python2"
  },
  "language_info": {
   "codemirror_mode": {
    "name": "ipython",
    "version": 2
   },
   "file_extension": ".py",
   "mimetype": "text/x-python",
   "name": "python",
   "nbconvert_exporter": "python",
   "pygments_lexer": "ipython2",
   "version": "2.7.14"
  },
  "toc": {
   "nav_menu": {
    "height": "12px",
    "width": "252px"
   },
   "navigate_menu": true,
   "number_sections": true,
   "sideBar": true,
   "threshold": 4,
   "toc_cell": false,
   "toc_section_display": "block",
   "toc_window_display": false
  }
 },
 "nbformat": 4,
 "nbformat_minor": 2
}
